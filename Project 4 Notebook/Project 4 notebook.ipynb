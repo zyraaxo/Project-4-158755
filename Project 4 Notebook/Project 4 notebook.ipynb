{
 "cells": [
  {
   "cell_type": "markdown",
   "id": "491a7d80-bc85-4977-9b4c-de428cd1fcea",
   "metadata": {},
   "source": [
    "# Data journalism: data visualisation – implementation of interactive graphs (web enabled), infographics.\n",
    "\n",
    "This notebook explores how sentiment and metadata from social media posts can be used to predict user engagement (likes + retweets). We also correlate trending news topics to online activity. This will help jouranlists find tredning topics via Social media and see how they effect each other. \n",
    "\n",
    "This project delivers a real-time trend forecasting web app that analyzes world-related hashtags (e.g., #Fitness, #Climate Change, #Ukraine) on X and Reddit posts combined. It combines social media data with current news headlines (via the News API) Using NLP and machine learning, it extracts trending keywords, predicts post engagement (likes and retweets, upvotes), and forecasts topic popularity over 24–48 hours. The tool is deployed as an interactive Streamlit dashboard, offering visualizations like word clouds and trend curves. A Jupyter notebook documents the full data science workflow.\n"
   ]
  },
  {
   "cell_type": "markdown",
   "id": "4042c924-9eb6-4a26-bf8f-0bbca05552ee",
   "metadata": {},
   "source": [
    "# Problem Statement: \n",
    "\n",
    "Trends on social media emerge and fade rapidly. Marketers, journalists, and researchers often struggle to anticipate these shifts. This project addresses that challenge by forecasting trend lifecycles, helping users optimize content timing and stay ahead of competitors."
   ]
  },
  {
   "cell_type": "markdown",
   "id": "8f85e339-cfa0-4fb3-a88b-0c0f7c0b2963",
   "metadata": {},
   "source": [
    "## Objectives: \n",
    "\n",
    "1. To collect and preprocess real-time social media data from X (formerly Twitter) and Reddit, focusing on globally relevant hashtags (e.g., #ClimateChange, #Ukraine, #Fitness), along with current news headlines using the NewsAPI.\n",
    "2. To perform sentiment analysis and keyword extraction on social media posts and news headlines using Natural Language Processing (NLP) techniques.\n",
    "3. To develop predictive models that estimate user engagement, such as likes, retweets, and upvotes, based on post content, sentiment, and metadata (e.g., time posted, hashtag used).\n",
    "4. To forecast the popularity of trending topics over a 24–48 hour period using time series analysis and trend modeling.\n",
    "5. To analyze the correlation between news coverage and online social media activity, highlighting how news drives or reflects online trends.\n",
    "6. To build and deploy an interactive Streamlit dashboard that:\n",
    "\n",
    "#### Displays real-time trends,\n",
    "\n",
    "#### Visualizes sentiment and keyword patterns (e.g., word clouds, trend curves),\n",
    "\n",
    "#### Allows journalists and users to explore topic impact and forecast engagement.\n",
    "\n",
    "7. To Document process"
   ]
  },
  {
   "cell_type": "markdown",
   "id": "0fa87ddd-f58d-4364-a8b7-77337651474b",
   "metadata": {},
   "source": [
    "### Libraries Needed: \n",
    "\n"
   ]
  },
  {
   "cell_type": "code",
   "execution_count": 3,
   "id": "1a18d40e-4363-42eb-b2b5-03a66a7eabc4",
   "metadata": {},
   "outputs": [],
   "source": [
    "from IPython.display import Image, display\n"
   ]
  },
  {
   "cell_type": "code",
   "execution_count": 1,
   "id": "8636cf92-55a1-43e9-9037-fe2550c12f4d",
   "metadata": {},
   "outputs": [
    {
     "ename": "ModuleNotFoundError",
     "evalue": "No module named 'pandas'",
     "output_type": "error",
     "traceback": [
      "\u001b[31m---------------------------------------------------------------------------\u001b[39m",
      "\u001b[31mModuleNotFoundError\u001b[39m                       Traceback (most recent call last)",
      "\u001b[36mCell\u001b[39m\u001b[36m \u001b[39m\u001b[32mIn[1]\u001b[39m\u001b[32m, line 1\u001b[39m\n\u001b[32m----> \u001b[39m\u001b[32m1\u001b[39m \u001b[38;5;28;01mimport\u001b[39;00m\u001b[38;5;250m \u001b[39m\u001b[34;01mpandas\u001b[39;00m\u001b[38;5;250m \u001b[39m\u001b[38;5;28;01mas\u001b[39;00m\u001b[38;5;250m \u001b[39m\u001b[34;01mpd\u001b[39;00m\n\u001b[32m      2\u001b[39m \u001b[38;5;28;01mimport\u001b[39;00m\u001b[38;5;250m \u001b[39m\u001b[34;01mnumpy\u001b[39;00m\u001b[38;5;250m \u001b[39m\u001b[38;5;28;01mas\u001b[39;00m\u001b[38;5;250m \u001b[39m\u001b[34;01mnp\u001b[39;00m\n\u001b[32m      3\u001b[39m \u001b[38;5;28;01mimport\u001b[39;00m\u001b[38;5;250m \u001b[39m\u001b[34;01mmatplotlib\u001b[39;00m\u001b[34;01m.\u001b[39;00m\u001b[34;01mpyplot\u001b[39;00m\u001b[38;5;250m \u001b[39m\u001b[38;5;28;01mas\u001b[39;00m\u001b[38;5;250m \u001b[39m\u001b[34;01mplt\u001b[39;00m\n",
      "\u001b[31mModuleNotFoundError\u001b[39m: No module named 'pandas'"
     ]
    }
   ],
   "source": [
    "import pandas as pd\n",
    "import numpy as np\n",
    "import matplotlib.pyplot as plt\n",
    "import seaborn as sns\n",
    "from textblob import TextBlob\n",
    "from sklearn.model_selection import train_test_split\n",
    "from sklearn.ensemble import RandomForestRegressor\n",
    "from sklearn.metrics import r2_score, mean_squared_error\n",
    "import praw\n",
    "from datetime import datetime\n",
    "\n",
    "streamlit\n",
    "nltk\n",
    "scikit-learn\n",
    "pandas\n",
    "matplotlib\n",
    "numpy\n",
    "seaborn\n",
    "wordcloud\n",
    "statsmodels\n",
    "praw\n",
    "textblob\n",
    "\n",
    "\n"
   ]
  },
  {
   "cell_type": "markdown",
   "id": "343b1c63-5c70-4a43-8884-fbb987bf3411",
   "metadata": {},
   "source": [
    "# Data Collection"
   ]
  },
  {
   "cell_type": "markdown",
   "id": "b4c1be5d-64e4-40fb-9512-3e9a158132bd",
   "metadata": {},
   "source": [
    "## Data sources: \n",
    "For social media, we use the X api [1]. This allows you gather posts from X within defined parameters. This will be done using hashtags these usally represent trending topics [2]. The newsAPI [3] will be used to gather news articles based on the paramters from the X posts aswell as Reddit [4] posts, for example #Fitness retreived the posts will be the search paramter for the news posts. \n",
    "\n",
    "## *Please add other data sources here if used*\n",
    "\n",
    "\n",
    "1. https://docs.x.com/x-api/introduction\n",
    "2. https://www.shopify.com/nz/blog/twitter-hashtags\n",
    "3. https://newsapi.org/\n",
    "4. https://www.reddit.com/dev/api/"
   ]
  },
  {
   "cell_type": "markdown",
   "id": "6771291d-831c-425b-a4e9-55f20fc3a076",
   "metadata": {},
   "source": [
    "# Limitations: "
   ]
  },
  {
   "cell_type": "markdown",
   "id": "d8c7acae-8de3-4650-8137-d2b962091831",
   "metadata": {},
   "source": [
    "Within the bounds of the X api free acount you are entitled to 100 posts from X, with Reddit its a lot more but capped to 60 requests a minute. The combined dataset will give us roughly 600 bits of data to work with with the abilty to add more from reddit when needed. This may skew the data towards Reddit posts but by doing the sentiment scores it will average out over all the data. "
   ]
  },
  {
   "cell_type": "markdown",
   "id": "864f72a1-4f6a-42a6-85e8-3578298e7851",
   "metadata": {},
   "source": [
    "# Ethical data usage: \n",
    "\n",
    "\n",
    "### X: \n",
    "The X API can be used for a university project if it aligns with X’s License Agreement, prioritizing user privacy, transparency, and ethical data use while avoiding harmful applications like misinformation or unauthorized data scraping. Ensure compliance with platform policies and secure data handling, especially for public interest research, though access may require navigating paid tiers or specific approvals under regulations like the EU’s DSA. (https://developer.x.com/en/developer-terms/agreement-and-policy) \n",
    "\n",
    "### NewsAPI: \n",
    "The News API (https://newsapi.org/terms) can be ethically used for a university project by adhering to its terms, which require lawful data use, compliance with local regulations, and respecting intellectual property through proper source attribution. Ensure transparency, secure handling of the API key, and limit data use to non-commercial academic purposes within the free tier’s 500 requests/day, avoiding unauthorized redistribution of licensed content.\n"
   ]
  },
  {
   "cell_type": "markdown",
   "id": "3cc5ee8f-e972-4d8b-b0d8-468b31c38b22",
   "metadata": {},
   "source": [
    "### Here is how the NewsAPI is used. This wont run on this notebook. \n"
   ]
  },
  {
   "cell_type": "code",
   "execution_count": 3,
   "id": "8bda8c46-05e4-41aa-94e5-e7e9f2f42c07",
   "metadata": {},
   "outputs": [
    {
     "ename": "NameError",
     "evalue": "name 'NewsApiClient' is not defined",
     "output_type": "error",
     "traceback": [
      "\u001b[31m---------------------------------------------------------------------------\u001b[39m",
      "\u001b[31mNameError\u001b[39m                                 Traceback (most recent call last)",
      "\u001b[36mCell\u001b[39m\u001b[36m \u001b[39m\u001b[32mIn[3]\u001b[39m\u001b[32m, line 3\u001b[39m\n\u001b[32m      1\u001b[39m \u001b[38;5;66;03m# --- Initialize News API ---\u001b[39;00m\n\u001b[32m      2\u001b[39m API_KEY = \u001b[33m\"\u001b[39m\u001b[33m7af7d5e56edc4148aac908f2c9f86ac3\u001b[39m\u001b[33m\"\u001b[39m  \n\u001b[32m----> \u001b[39m\u001b[32m3\u001b[39m newsapi = \u001b[43mNewsApiClient\u001b[49m(api_key=API_KEY)\n\u001b[32m      5\u001b[39m st.title(\u001b[33m\"\u001b[39m\u001b[33m📊 Real-Time Social + News Dashboard with Engagement Forecasting\u001b[39m\u001b[33m\"\u001b[39m)\n\u001b[32m      7\u001b[39m \u001b[38;5;66;03m# --- User Topic Input ---\u001b[39;00m\n",
      "\u001b[31mNameError\u001b[39m: name 'NewsApiClient' is not defined"
     ]
    }
   ],
   "source": [
    "\n",
    "# --- Initialize News API ---\n",
    "API_KEY = \"7af7d5e56edc4148aac908f2c9f86ac3\"  \n",
    "newsapi = NewsApiClient(api_key=API_KEY)\n",
    "\n",
    "st.title(\"📊 Real-Time Social + News Dashboard with Engagement Forecasting\")\n",
    "\n",
    "# --- User Topic Input ---\n",
    "topic = st.text_input(\"Enter a topic keyword (e.g., #Fitness, climate change):\", \"#Fitness\")\n",
    "\n",
    "# --- News Fetching ---\n",
    "if topic:\n",
    "    with st.spinner(\"Fetching news articles...\"):\n",
    "        all_articles = newsapi.get_everything(\n",
    "            q=topic,\n",
    "            language='en',\n",
    "            sort_by='publishedAt',\n",
    "            page_size=10\n",
    "        )\n",
    "    articles = all_articles.get('articles', [])\n",
    "\n",
    "    st.header(f\"📰 Latest News on {topic}\")\n",
    "    if articles:\n",
    "        for article in articles:\n",
    "            st.subheader(article['title'])\n",
    "            st.write(article['description'])\n",
    "            st.markdown(f\"[Read more]({article['url']})\")\n",
    "            st.write(f\"Published at: {article['publishedAt']}\")\n",
    "            st.markdown(\"---\")\n",
    "    else:\n",
    "        st.write(\"No news articles found for this topic.\")\n",
    "\n",
    "# --- Load Dataset ---\n",
    "@st.cache_data\n",
    "def load_social_data():\n",
    "    df = pd.read_csv(\"data/x_posts_with_weather.csv\")\n",
    "    df['created_at'] = pd.to_datetime(df['created_at'], errors='coerce')\n",
    "    return df\n",
    "\n",
    "df = load_social_data()\n",
    "\n",
    "# --- Filter Dataset ---\n",
    "if topic:\n",
    "    mask = df['hashtags'].str.contains(topic.replace(\"#\", \"\"), case=False, na=False)\n",
    "    filtered_df = df[mask]\n",
    "\n",
    "    st.header(f\"📱 Social Media Posts on {topic}\")\n",
    "    st.write(f\"Total posts found: {filtered_df.shape[0]}\")\n",
    "\n",
    "    if not filtered_df.empty:\n",
    "        st.line_chart(filtered_df.groupby(filtered_df['created_at'].dt.floor('H')).size())\n",
    "    else:\n",
    "        st.write(\"No social media posts found for this topic.\")"
   ]
  },
  {
   "cell_type": "markdown",
   "id": "975bdf8d-f67a-4639-9d05-a7b46a3c97ab",
   "metadata": {},
   "source": [
    "# Reddit Data: "
   ]
  },
  {
   "cell_type": "markdown",
   "id": "395f8747-f06e-4342-95b7-9f5238428d91",
   "metadata": {},
   "source": [
    "Reddit uses a libary named 'praw', this is an API wrapper for reddit and is what receives the posts from Reddit. It does require an client ID, client_secret and user_agent which is given to you when you create an app through Reddit developer. \n",
    "\n",
    "\n",
    "https://praw.readthedocs.io/en/stable/"
   ]
  },
  {
   "cell_type": "markdown",
   "id": "86371cdb-3327-437b-91a2-a28436270f02",
   "metadata": {},
   "source": [
    "## Code Example: "
   ]
  },
  {
   "cell_type": "code",
   "execution_count": null,
   "id": "09b1f190-d450-44f2-96ef-032ae2d204c2",
   "metadata": {},
   "outputs": [],
   "source": [
    "\n",
    "# Reddit API credentials\n",
    "reddit = praw.Reddit(\n",
    "    client_id='v5b2CYNg37amXniM43bNmQ',\n",
    "    client_secret='cqVeL5VR-vENbiLAjnfC-xoRn45qaQ',\n",
    "    user_agent=\"MyRedditSentimentApp/0.1 by noahcrampton\"\n",
    ")\n",
    "\n",
    "subreddit = reddit.subreddit(\"all\")\n",
    "posts = []\n",
    "\n",
    "# You can use .hot(), .new(), or .top(), ill use hot() to get treding postss\n",
    "for post in subreddit.new(limit=500):\n",
    "    posts.append({\n",
    "        \"title\": post.title,\n",
    "        \"score\": post.score,\n",
    "        \"comments\": post.num_comments,\n",
    "        \"created\": datetime.utcfromtimestamp(post.created_utc),\n",
    "        \"url\": post.url,\n",
    "        \"selftext\": post.selftext,\n",
    "        \"subreddit\": str(post.subreddit)\n",
    "    })\n",
    "\n",
    "df = pd.DataFrame(posts).drop_duplicates(subset=\"title\")\n",
    "df.sort_values(by=\"created\", ascending=False, inplace=True)\n",
    "\n",
    "print(\"Columns:\", df.columns.tolist())\n",
    "\n",
    "df.to_csv(\"data/reddit_all_recent_posts.csv\", index=False)\n",
    "print(\"Saved to reddit_all_recent_posts.csv\")\n"
   ]
  },
  {
   "cell_type": "code",
   "execution_count": null,
   "id": "70fd734d-8146-4886-b4fc-03d2d2d24cfc",
   "metadata": {},
   "outputs": [],
   "source": []
  },
  {
   "cell_type": "markdown",
   "id": "065d265f-bc8d-4973-854e-98f44a1c76ee",
   "metadata": {},
   "source": [
    "# Data Cleaning & Preprocessing"
   ]
  },
  {
   "cell_type": "markdown",
   "id": "71cfe239-33e9-47bc-bb19-4c110d578a83",
   "metadata": {},
   "source": [
    "Below is the code that cleans and organises the data, ensures there is simuilar colunm names for machine learning"
   ]
  },
  {
   "cell_type": "code",
   "execution_count": null,
   "id": "945ac6e3-e03f-4115-9dd8-6d15c60419cf",
   "metadata": {},
   "outputs": [],
   "source": [
    "\n",
    "\n",
    "x_posts = pd.read_csv(\"data/x_posts_with_weather.csv\")\n",
    "reddit_posts = pd.read_csv(\"data/reddit_all_recent_posts.csv\")\n",
    "\n",
    "reddit_posts['text'] = reddit_posts['title'].fillna('') + \". \" + reddit_posts['selftext'].fillna('')\n",
    "\n",
    "reddit_posts['created_at'] = pd.to_datetime(reddit_posts['created'], errors='coerce')\n",
    "\n",
    "reddit_posts['hour_of_day'] = reddit_posts['created_at'].dt.hour\n",
    "reddit_posts['is_weekend'] = reddit_posts['created_at'].dt.dayofweek >= 5\n",
    "\n",
    "reddit_posts['engagement'] = reddit_posts['score'] + reddit_posts['comments']\n",
    "\n",
    "def get_sentiment(text):\n",
    "    return TextBlob(text).sentiment.polarity\n",
    "\n",
    "reddit_posts['sentiment'] = reddit_posts['text'].apply(get_sentiment)\n",
    "\n",
    "reddit_renamed = reddit_posts.rename(columns={\n",
    "    \"created_at\": \"created_at\",\n",
    "    \"text\": \"text\",\n",
    "    \"engagement\": \"engagement\",\n",
    "    \"sentiment\": \"sentiment\",\n",
    "    \"hour_of_day\": \"hour_of_day\",\n",
    "    \"is_weekend\": \"is_weekend\"\n",
    "})\n",
    "\n",
    "reddit_cleaned = reddit_renamed[[\n",
    "    \"created_at\", \"text\", \"sentiment\", \"hour_of_day\", \"is_weekend\", \"engagement\"\n",
    "]]\n",
    "\n",
    "x_posts['created_at'] = pd.to_datetime(x_posts['created_at'], errors='coerce')\n",
    "x_posts_cleaned = x_posts[[\n",
    "    \"created_at\", \"text\", \"sentiment\", \"hour_of_day\", \"is_weekend\", \"engagement\"\n",
    "]]\n",
    "\n",
    "combined_df = pd.concat([x_posts_cleaned, reddit_cleaned], ignore_index=True)\n",
    "\n",
    "combined_df.dropna(subset=[\"text\", \"engagement\"], inplace=True)\n",
    "\n",
    "combined_df.to_csv(\"data/combined_social_data.csv\", index=False)\n",
    "pd.set_option('display.max_rows', None)\n",
    "\n",
    "pd.set_option('display.max_columns', None)  \n",
    "pd.set_option('display.max_rows', None)     \n",
    "\n",
    "print(combined_df)"
   ]
  },
  {
   "cell_type": "markdown",
   "id": "b372f8a4-f7c6-4d56-9e31-294c04bfd531",
   "metadata": {},
   "source": [
    "This preprocess_and_train() function is a machine learning pipeline for training a regression model to predict engagement (like likes, comments, etc.) based on various post features. Splits the dataset into training (80%) and testing (20%) sets using a fixed random seed for reproducibility. Chooses and initializes the machine learning model, user chooses the model via the Streamlit app:\n",
    "\n",
    "RandomForestRegressor: ensemble method using many decision trees.\n",
    "\n",
    "GradientBoostingRegressor: more sophisticated, sequentially improves weak learners."
   ]
  },
  {
   "cell_type": "code",
   "execution_count": 2,
   "id": "d0088e97-1280-4fcd-b69d-099d8026aadc",
   "metadata": {},
   "outputs": [
    {
     "data": {
      "image/png": "[encoded data removed]",
      "text/plain": [
       "<IPython.core.display.Image object>"
      ]
     },
     "metadata": {},
     "output_type": "display_data"
    }
   ],
   "source": [
    "\n",
    "display(Image(filename='Images/screen1.png'))"
   ]
  },
  {
   "cell_type": "code",
   "execution_count": null,
   "id": "733a553a-71a1-4dac-8cca-349fbdf3a192",
   "metadata": {},
   "outputs": [],
   "source": [
    "def preprocess_and_train(df, model_choice=\"RandomForest\"):\n",
    "    try:\n",
    "        features = ['sentiment', 'text_length', 'hashtag_count', 'is_media', 'hour', 'is_weekend']\n",
    "        X = df[features].fillna(0)\n",
    "        y = df['engagement'].fillna(0)\n",
    "        if len(X) < 10:\n",
    "            raise ValueError(\"Not enough data for training (minimum 10 rows required).\")\n",
    "        X_train, X_test, y_train, y_test = train_test_split(X, y, test_size=0.2, random_state=42)\n",
    "        if model_choice == \"RandomForest\":\n",
    "            model = RandomForestRegressor(n_estimators=100, random_state=42)\n",
    "        else:\n",
    "            model = GradientBoostingRegressor(n_estimators=100, learning_rate=0.1, random_state=42)\n",
    "        model.fit(X_train, y_train)\n",
    "        y_pred = model.predict(X_test)\n",
    "        return {\n",
    "            'r2_score': r2_score(y_test, y_pred),\n",
    "            'rmse': np.sqrt(mean_squared_error(y_test, y_pred)),\n",
    "            'X_test': X_test,\n",
    "            'y_test': y_test,\n",
    "            'y_pred': y_pred\n",
    "        }\n",
    "    except Exception as e:\n",
    "        st.error(f\"Error in training model: {e}\")\n",
    "        return None"
   ]
  },
  {
   "cell_type": "markdown",
   "id": "63bfca54-2653-46bf-aad3-ad0c8ce1e92b",
   "metadata": {},
   "source": [
    "# Exploratory Data Analysis (EDA)"
   ]
  },
  {
   "cell_type": "code",
   "execution_count": null,
   "id": "0e921a18-415e-4b32-8ee6-7b0261cb7fde",
   "metadata": {},
   "outputs": [],
   "source": []
  },
  {
   "cell_type": "markdown",
   "id": "3953a37a-9a4c-49a4-8bb5-11bc6b3a5af6",
   "metadata": {},
   "source": [
    "# Model Development"
   ]
  },
  {
   "cell_type": "markdown",
   "id": "35515326-2018-45dd-88e0-9b4a10d22080",
   "metadata": {},
   "source": [
    "### Hybrid Prophet+XGBoost"
   ]
  },
  {
   "cell_type": "markdown",
   "id": "2e5546ee-8ede-4e61-a389-6d016c6c6351",
   "metadata": {},
   "source": [
    "This code snippet is part of the Streamlit app that implements a hybrid forecasting model combining Facebook Prophet and XGBoost to predict engagement over time (e.g., likes, shares, comments, etc.) Evaluates it with R² and RMSE. Plots:\n",
    "\n",
    "    1. Time-series forecast from Prophet.\n",
    "\n",
    "    2. Predicted vs. actual engagement using XGBoost.\n",
    "\n",
    "    as seen in the EDA section"
   ]
  },
  {
   "cell_type": "code",
   "execution_count": null,
   "id": "a11f59eb-4d08-477a-84bd-e59480b75fad",
   "metadata": {},
   "outputs": [],
   "source": [
    "st.subheader(\"Hybrid Prophet + XGBoost Forecast\")\n",
    "try:\n",
    "    with st.spinner(\"Training hybrid model...\"):\n",
    "        result = hybrid_prophet_xgb(filtered_df)\n",
    "    if result:\n",
    "        st.success(\"✅ Hybrid model trained successfully!\")\n",
    "        st.write(f\"**R² Score**: {result['r2_score']:.2f}\")\n",
    "        st.write(f\"**RMSE**: {result['rmse']:.2f}\")\n",
    "        fig = plt.figure(figsize=(12, 6))\n",
    "        plt.plot(result['prophet_forecast']['ds'], result['prophet_forecast']['yhat'], label='Prophet Forecast')\n",
    "        plt.xlabel('Time')\n",
    "        plt.ylabel('Engagement')\n",
    "        plt.title('Prophet Time Series Forecast')\n",
    "        plt.legend()\n",
    "        st.pyplot(fig)\n",
    "        chart_df = result['X_test'].copy()\n",
    "        chart_df['Predicted Engagement'] = result['y_pred']\n",
    "        chart_df['Actual Engagement'] = result['y_test'].values\n",
    "        if 'created_at' in chart_df.columns and not chart_df['created_at'].isnull().any():\n",
    "            chart_df = chart_df.set_index('created_at')\n",
    "            st.line_chart(chart_df[['Predicted Engagement', 'Actual Engagement']])\n",
    "        else:\n",
    "            st.line_chart(chart_df[['Predicted Engagement', 'Actual Engagement']])\n",
    "            st.warning(\"Using post indices as x-axis because 'created_at' is missing or invalid.\")\n",
    "except Exception as e:\n",
    "    st.error(f\"Hybrid model error: {e}\")"
   ]
  },
  {
   "cell_type": "code",
   "execution_count": null,
   "id": "16617ef2-2d7f-47ed-a022-7cb1ae289d4b",
   "metadata": {},
   "outputs": [],
   "source": [
    "def hybrid_prophet_xgb(df):\n",
    "    try:\n",
    "        logger.info(\"Starting hybrid Prophet+XGBoost prediction\")\n",
    "        df['created_at'] = pd.to_datetime(df['created_at']).dt.tz_localize(None)\n",
    "        prophet_df = df[['created_at', 'engagement']].copy()\n",
    "        prophet_df = prophet_df.rename(columns={'created_at': 'ds', 'engagement': 'y'})\n",
    "        m = Prophet(daily_seasonality=True, weekly_seasonality=True, yearly_seasonality=False)\n",
    "        m.fit(prophet_df)\n",
    "        future = m.make_future_dataframe(periods=24, freq='H')\n",
    "        forecast = m.predict(future)\n",
    "        prophet_features = forecast[['ds', 'trend', 'weekly', 'daily']]\n",
    "        merged_df = df.merge(prophet_features, left_on='created_at', right_on='ds', how='left').drop(columns=['ds'])\n",
    "        features = ['sentiment', 'hour', 'is_weekend', 'trend', 'weekly', 'daily']\n",
    "        merged_df = merged_df.dropna(subset=features + ['engagement'])\n",
    "        if len(merged_df) < 10:\n",
    "            raise ValueError(\"Not enough data for XGBoost training.\")\n",
    "        X = merged_df[features]\n",
    "        y = merged_df['engagement']\n",
    "        X_train, X_test, y_train, y_test = train_test_split(X, y, test_size=0.2, random_state=42)\n",
    "        xgb_model = XGBRegressor(n_estimators=150, max_depth=6, learning_rate=0.1, subsample=0.8, random_state=42)\n",
    "        xgb_model.fit(X_train, y_train)\n",
    "        y_pred = xgb_model.predict(X_test)\n",
    "        return {\n",
    "            \"prophet_forecast\": forecast[['ds', 'yhat']],\n",
    "            \"xgb_model\": xgb_model,\n",
    "            \"xgb_features\": features,\n",
    "            \"r2_score\": r2_score(y_test, y_pred),\n",
    "            \"rmse\": np.sqrt(mean_squared_error(y_test, y_pred)),\n",
    "            \"X_test\": X_test.assign(created_at=merged_df.loc[X_test.index, 'created_at']),\n",
    "            \"y_test\": y_test,\n",
    "            \"y_pred\": y_pred\n",
    "        }\n",
    "    except Exception as e:\n",
    "        logger.error(f\"Hybrid model error: {str(e)}\", exc_info=True)\n",
    "        return None"
   ]
  },
  {
   "cell_type": "markdown",
   "id": "44bbeb4a-dcf3-4e3a-8234-cfcaf93705a3",
   "metadata": {},
   "source": [
    "### Regression model"
   ]
  },
  {
   "cell_type": "markdown",
   "id": "287ee744-ffd7-4d04-a995-aea98f4c46b4",
   "metadata": {},
   "source": [
    "This code snippet is part of the Streamlit app that performs regression-based engagement prediction using a machine learning model selected by the user based on selected input via the app, #Fitness for example"
   ]
  },
  {
   "cell_type": "code",
   "execution_count": null,
   "id": "3e005a06-62c0-4c18-bfc1-024bd296f164",
   "metadata": {},
   "outputs": [],
   "source": [
    "st.subheader(\"📈 Predict Engagement (Regression)\")\n",
    "try:\n",
    "    with st.spinner(\"Training regression model...\"):\n",
    "        result = preprocess_and_train(filtered_df, model_choice)\n",
    "    if result:\n",
    "        st.success(f\"✅ {model_choice} model trained successfully!\")\n",
    "        st.write(f\"**R² Score**: {result['r2_score']:.2f}\")\n",
    "        st.write(f\"**RMSE**: {result['rmse']:.2f}\")\n",
    "        chart_df = result['X_test'].copy()\n",
    "        chart_df['Predicted Engagement'] = result['y_pred']\n",
    "        chart_df['Actual Engagement'] = result['y_test'].values\n",
    "        fig, ax = plt.subplots()\n",
    "        ax.plot(chart_df.index, chart_df['Predicted Engagement'], label='Predicted', color='tab:purple')\n",
    "        ax.plot(chart_df.index, chart_df['Actual Engagement'], label='Actual', color='tab:red')\n",
    "        ax.set_title('Predicted vs Actual Engagement')\n",
    "        ax.set_xlabel('Post Index')\n",
    "        ax.set_ylabel('Engagement')\n",
    "        ax.legend()\n",
    "        st.pyplot(fig)\n",
    "\n",
    "except Exception as e:\n",
    "    st.error(f\"Regression model error: {e}\")"
   ]
  },
  {
   "cell_type": "markdown",
   "id": "61d6eb0a-a186-4667-a559-96719c346f91",
   "metadata": {},
   "source": [
    "### NLP / LDA"
   ]
  },
  {
   "cell_type": "markdown",
   "id": "1b907120-4779-4dac-abce-df52bf21d937",
   "metadata": {},
   "source": [
    "The list nltk_resources contains names of NLTK datasets and models that need to be downloaded to use certain Natural Language Toolkit (NLTK) features."
   ]
  },
  {
   "cell_type": "code",
   "execution_count": 4,
   "id": "53aa8e5c-d89d-4203-828c-f3434866431d",
   "metadata": {},
   "outputs": [],
   "source": [
    "nltk_resources = [\n",
    "    'punkt', 'punkt_tab', 'stopwords', 'vader_lexicon',\n",
    "    'averaged_perceptron_tagger', 'wordnet', 'omw-1.4'\n",
    "]"
   ]
  },
  {
   "cell_type": "markdown",
   "id": "402cbf99-fe79-4ffa-8c0c-f5256e673c88",
   "metadata": {},
   "source": [
    "The extract_topics function preprocesses a list of texts (removing stopwords, tokenizing, and filtering) and uses Latent Dirichlet Allocation (LDA) to assign one of three topic labels to each valid text. If there’s too little data or an error occurs, it returns a list of zeros matching the input size."
   ]
  },
  {
   "cell_type": "code",
   "execution_count": null,
   "id": "ce480189-fddf-41df-a1ce-c72ba9b102ee",
   "metadata": {},
   "outputs": [],
   "source": [
    "def extract_topics(texts):\n",
    "    stop_words = set(stopwords.words('english')) - {'run', 'pump'}\n",
    "    processed_texts = [\n",
    "        \" \".join([\n",
    "            word for word in word_tokenize(doc.lower())\n",
    "            if (word.isalnum() or word.startswith('#') or word in ['🦵🏽', '💪🏽']) and word not in stop_words\n",
    "        ]) for doc in texts if isinstance(doc, str) and doc.strip()\n",
    "    ]\n",
    "    processed_texts = [doc for doc in processed_texts if len(doc.strip().split()) > 1]\n",
    "    if len(processed_texts) < 5:\n",
    "        return [0] * len(texts)\n",
    "    try:\n",
    "        vectorizer = CountVectorizer(max_df=0.95, min_df=2, max_features=1000)\n",
    "        dtm = vectorizer.fit_transform(processed_texts)\n",
    "        lda = LatentDirichletAllocation(n_components=3, random_state=42)\n",
    "        lda.fit(dtm)\n",
    "        topics = lda.transform(dtm).argmax(axis=1)\n",
    "        padded_topics = [topics[i] if i < len(topics) else 0 for i in range(len(texts))]\n",
    "        return padded_topics\n",
    "    except Exception as e:\n",
    "        logger.error(f\"Topic modeling error: {e}\")\n",
    "        return [0] * len(texts)"
   ]
  },
  {
   "cell_type": "markdown",
   "id": "28472ae3-62ec-4602-b872-46e0554cc500",
   "metadata": {},
   "source": [
    "### VADER Sentiment \n"
   ]
  },
  {
   "cell_type": "code",
   "execution_count": null,
   "id": "0273baa2-13f4-441b-b685-30ed4735abe5",
   "metadata": {},
   "outputs": [],
   "source": [
    "try:\n",
    "    sid = SentimentIntensityAnalyzer()\n",
    "    test_score = sid.polarity_scores(\"I love this! It's amazing!\")\n",
    "    logger.debug(f\"VADER test score: {test_score}\")\n",
    "    if test_score['compound'] == 0:\n",
    "        st.warning(\"VADER sentiment analyzer may not be functioning correctly.\")\n",
    "except Exception as e:\n",
    "    st.error(f\"Failed to initialize VADER: {e}\")\n",
    "    st.stop()"
   ]
  },
  {
   "cell_type": "code",
   "execution_count": null,
   "id": "4ee01c99-b423-490f-a571-d06ea51b88dd",
   "metadata": {},
   "outputs": [],
   "source": [
    "def compute_sentiment(text):\n",
    "    try:\n",
    "        text = str(text).strip()\n",
    "        if not text or text.lower() in ['nan', 'none', '']:\n",
    "            logger.debug(f\"Empty or invalid text: {text}\")\n",
    "            return 0.0\n",
    "        scores = sid.polarity_scores(text)\n",
    "        compound_score = scores['compound']\n",
    "        logger.debug(f\"Text: {text[:50]}... Sentiment: {compound_score}\")\n",
    "        return compound_score\n",
    "    except Exception as e:\n",
    "        logger.error(f\"Sentiment computation error for text '{text[:50]}...': {e}\")\n",
    "        return 0.0"
   ]
  },
  {
   "cell_type": "markdown",
   "id": "38d57e8e-6b2f-4d54-9e92-47b141aa5021",
   "metadata": {},
   "source": [
    "This function ensures robust and fault-tolerant sentiment scoring using VADER, returning a compound score between -1 and 1, and defaulting to 0.0 for any invalid input or error."
   ]
  },
  {
   "cell_type": "code",
   "execution_count": null,
   "id": "381e4b48-178f-4575-88a0-082707fa0f55",
   "metadata": {},
   "outputs": [],
   "source": []
  },
  {
   "cell_type": "code",
   "execution_count": null,
   "id": "a025bda0-d1c8-461d-8b25-63612cacd387",
   "metadata": {},
   "outputs": [],
   "source": []
  },
  {
   "cell_type": "code",
   "execution_count": null,
   "id": "93a659ae-9aed-40fd-acfa-edf6b14ee489",
   "metadata": {},
   "outputs": [],
   "source": []
  },
  {
   "cell_type": "code",
   "execution_count": null,
   "id": "a1316c22-4483-43f5-bb05-d44f7af9f809",
   "metadata": {},
   "outputs": [],
   "source": []
  },
  {
   "cell_type": "markdown",
   "id": "8bc41de1-0b2c-46f2-8839-b001ebe11476",
   "metadata": {},
   "source": [
    "# Model Evaluation"
   ]
  },
  {
   "cell_type": "code",
   "execution_count": null,
   "id": "cf4ef228-facc-49cf-a5c2-8a26b191705c",
   "metadata": {},
   "outputs": [],
   "source": []
  },
  {
   "cell_type": "markdown",
   "id": "60bb6ec9-2040-44a4-ab3f-80d8a0d3aa7a",
   "metadata": {},
   "source": [
    "# Forecasting & Trend Analysis"
   ]
  },
  {
   "cell_type": "code",
   "execution_count": null,
   "id": "a4752221-b5d7-4375-b168-82c76a0c605e",
   "metadata": {},
   "outputs": [],
   "source": []
  },
  {
   "cell_type": "markdown",
   "id": "c39f4544-9030-4fff-94b2-99763496387d",
   "metadata": {},
   "source": [
    "# Streamlit App Integration"
   ]
  },
  {
   "cell_type": "code",
   "execution_count": null,
   "id": "b733d9eb-ad5b-4bac-8742-9b0ac539a48a",
   "metadata": {},
   "outputs": [],
   "source": []
  },
  {
   "cell_type": "markdown",
   "id": "485d3e44-22f8-4685-9e9a-3fcf4b028300",
   "metadata": {},
   "source": [
    "# Insights & Conclusion"
   ]
  },
  {
   "cell_type": "code",
   "execution_count": null,
   "id": "ac41d698-f39b-4371-bad4-353b18b96d3f",
   "metadata": {},
   "outputs": [],
   "source": []
  }
 ],
 "metadata": {
  "kernelspec": {
   "display_name": "Python 3 (ipykernel)",
   "language": "python",
   "name": "python3"
  },
  "language_info": {
   "codemirror_mode": {
    "name": "ipython",
    "version": 3
   },
   "file_extension": ".py",
   "mimetype": "text/x-python",
   "name": "python",
   "nbconvert_exporter": "python",
   "pygments_lexer": "ipython3",
   "version": "3.12.3"
  }
 },
 "nbformat": 4,
 "nbformat_minor": 5
}
