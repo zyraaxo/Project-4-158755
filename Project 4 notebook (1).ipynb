{
 "cells": [
  {
   "cell_type": "markdown",
   "id": "491a7d80-bc85-4977-9b4c-de428cd1fcea",
   "metadata": {},
   "source": [
    "# Data journalism: data visualisation – implementation of interactive graphs (web enabled), infographics.\n",
    "\n",
    "This notebook explores how sentiment and metadata from social media posts can be used to predict user engagement (likes + retweets). We also correlate trending news topics to online activity. This will help jouranlists find tredning topics via Social media and see how they effect each other\n"
   ]
  },
  {
   "cell_type": "markdown",
   "id": "0fa87ddd-f58d-4364-a8b7-77337651474b",
   "metadata": {},
   "source": [
    "### Libraries Needed: \n",
    "\n"
   ]
  },
  {
   "cell_type": "markdown",
   "id": "9c5af6c9-d7d3-45f2-9530-c89d864981e8",
   "metadata": {},
   "source": [
    "import pandas as pd\n",
    "import numpy as np\n",
    "import matplotlib.pyplot as plt\n",
    "import seaborn as sns\n",
    "from textblob import TextBlob\n",
    "from sklearn.model_selection import train_test_split\n",
    "from sklearn.ensemble import RandomForestRegressor\n",
    "from sklearn.metrics import r2_score, mean_squared_error\n",
    "\n",
    "# add here when needed."
   ]
  },
  {
   "cell_type": "markdown",
   "id": "b4c1be5d-64e4-40fb-9512-3e9a158132bd",
   "metadata": {},
   "source": [
    "## Data sources: \n",
    "For social media, we use the X api [1]. This allows you gather posts from X within defined parameters. This will be done using hashtags these usally represent trending topics [2]. The newsAPI [3] will be used to gather news articles based on the paramters from the X posts, for example #Fitness retreived the X posts will be the search paramter for the news posts. \n",
    "\n",
    "## *Please add other data sources here if used*\n",
    "\n",
    "\n",
    "1. https://docs.x.com/x-api/introduction\n",
    "2. https://www.shopify.com/nz/blog/twitter-hashtags\n",
    "3. https://newsapi.org/"
   ]
  },
  {
   "cell_type": "markdown",
   "id": "6771291d-831c-425b-a4e9-55f20fc3a076",
   "metadata": {},
   "source": [
    "# Limitations: "
   ]
  },
  {
   "cell_type": "code",
   "execution_count": null,
   "id": "6b8b16fb-b62f-4b6b-84fa-73f44b7a7210",
   "metadata": {},
   "outputs": [],
   "source": []
  },
  {
   "cell_type": "markdown",
   "id": "864f72a1-4f6a-42a6-85e8-3578298e7851",
   "metadata": {},
   "source": [
    "# Ethical data usage: \n",
    "\n",
    "\n",
    "### X: \n",
    "The X API can be used for a university project if it aligns with X’s License Agreement, prioritizing user privacy, transparency, and ethical data use while avoiding harmful applications like misinformation or unauthorized data scraping. Ensure compliance with platform policies and secure data handling, especially for public interest research, though access may require navigating paid tiers or specific approvals under regulations like the EU’s DSA. (https://developer.x.com/en/developer-terms/agreement-and-policy) \n",
    "\n",
    "### NewsAPI: \n",
    "The News API (https://newsapi.org/terms) can be ethically used for a university project by adhering to its terms, which require lawful data use, compliance with local regulations, and respecting intellectual property through proper source attribution. Ensure transparency, secure handling of the API key, and limit data use to non-commercial academic purposes within the free tier’s 500 requests/day, avoiding unauthorized redistribution of licensed content.\n"
   ]
  },
  {
   "cell_type": "markdown",
   "id": "3cc5ee8f-e972-4d8b-b0d8-468b31c38b22",
   "metadata": {},
   "source": [
    "### Here is how the NewsAPI is used. This wont run on this notebook. \n"
   ]
  },
  {
   "cell_type": "code",
   "execution_count": 3,
   "id": "8bda8c46-05e4-41aa-94e5-e7e9f2f42c07",
   "metadata": {},
   "outputs": [
    {
     "ename": "NameError",
     "evalue": "name 'NewsApiClient' is not defined",
     "output_type": "error",
     "traceback": [
      "\u001b[31m---------------------------------------------------------------------------\u001b[39m",
      "\u001b[31mNameError\u001b[39m                                 Traceback (most recent call last)",
      "\u001b[36mCell\u001b[39m\u001b[36m \u001b[39m\u001b[32mIn[3]\u001b[39m\u001b[32m, line 3\u001b[39m\n\u001b[32m      1\u001b[39m \u001b[38;5;66;03m# --- Initialize News API ---\u001b[39;00m\n\u001b[32m      2\u001b[39m API_KEY = \u001b[33m\"\u001b[39m\u001b[33m7af7d5e56edc4148aac908f2c9f86ac3\u001b[39m\u001b[33m\"\u001b[39m  \n\u001b[32m----> \u001b[39m\u001b[32m3\u001b[39m newsapi = \u001b[43mNewsApiClient\u001b[49m(api_key=API_KEY)\n\u001b[32m      5\u001b[39m st.title(\u001b[33m\"\u001b[39m\u001b[33m📊 Real-Time Social + News Dashboard with Engagement Forecasting\u001b[39m\u001b[33m\"\u001b[39m)\n\u001b[32m      7\u001b[39m \u001b[38;5;66;03m# --- User Topic Input ---\u001b[39;00m\n",
      "\u001b[31mNameError\u001b[39m: name 'NewsApiClient' is not defined"
     ]
    }
   ],
   "source": [
    "\n",
    "# --- Initialize News API ---\n",
    "API_KEY = \"7af7d5e56edc4148aac908f2c9f86ac3\"  \n",
    "newsapi = NewsApiClient(api_key=API_KEY)\n",
    "\n",
    "st.title(\"📊 Real-Time Social + News Dashboard with Engagement Forecasting\")\n",
    "\n",
    "# --- User Topic Input ---\n",
    "topic = st.text_input(\"Enter a topic keyword (e.g., #Fitness, climate change):\", \"#Fitness\")\n",
    "\n",
    "# --- News Fetching ---\n",
    "if topic:\n",
    "    with st.spinner(\"Fetching news articles...\"):\n",
    "        all_articles = newsapi.get_everything(\n",
    "            q=topic,\n",
    "            language='en',\n",
    "            sort_by='publishedAt',\n",
    "            page_size=10\n",
    "        )\n",
    "    articles = all_articles.get('articles', [])\n",
    "\n",
    "    st.header(f\"📰 Latest News on {topic}\")\n",
    "    if articles:\n",
    "        for article in articles:\n",
    "            st.subheader(article['title'])\n",
    "            st.write(article['description'])\n",
    "            st.markdown(f\"[Read more]({article['url']})\")\n",
    "            st.write(f\"Published at: {article['publishedAt']}\")\n",
    "            st.markdown(\"---\")\n",
    "    else:\n",
    "        st.write(\"No news articles found for this topic.\")\n",
    "\n",
    "# --- Load Dataset ---\n",
    "@st.cache_data\n",
    "def load_social_data():\n",
    "    df = pd.read_csv(\"data/x_posts_with_weather.csv\")\n",
    "    df['created_at'] = pd.to_datetime(df['created_at'], errors='coerce')\n",
    "    return df\n",
    "\n",
    "df = load_social_data()\n",
    "\n",
    "# --- Filter Dataset ---\n",
    "if topic:\n",
    "    mask = df['hashtags'].str.contains(topic.replace(\"#\", \"\"), case=False, na=False)\n",
    "    filtered_df = df[mask]\n",
    "\n",
    "    st.header(f\"📱 Social Media Posts on {topic}\")\n",
    "    st.write(f\"Total posts found: {filtered_df.shape[0]}\")\n",
    "\n",
    "    if not filtered_df.empty:\n",
    "        st.line_chart(filtered_df.groupby(filtered_df['created_at'].dt.floor('H')).size())\n",
    "    else:\n",
    "        st.write(\"No social media posts found for this topic.\")"
   ]
  },
  {
   "cell_type": "code",
   "execution_count": null,
   "id": "fe7014ab-9c12-4f40-8367-a5253c1d8e30",
   "metadata": {},
   "outputs": [],
   "source": []
  },
  {
   "cell_type": "code",
   "execution_count": null,
   "id": "c1694469-edde-4fdc-8f8f-233648ca92b6",
   "metadata": {},
   "outputs": [],
   "source": []
  },
  {
   "cell_type": "code",
   "execution_count": null,
   "id": "93d0e306-5751-4b3d-980b-278126e47d12",
   "metadata": {},
   "outputs": [],
   "source": []
  },
  {
   "cell_type": "code",
   "execution_count": null,
   "id": "bdb894b8-44f9-4f68-b40b-021be820f17c",
   "metadata": {},
   "outputs": [],
   "source": []
  },
  {
   "cell_type": "code",
   "execution_count": null,
   "id": "45c0e2e8-46c0-4046-98cf-fbf81f80d9c0",
   "metadata": {},
   "outputs": [],
   "source": []
  }
 ],
 "metadata": {
  "kernelspec": {
   "display_name": "Python 3 (ipykernel)",
   "language": "python",
   "name": "python3"
  },
  "language_info": {
   "codemirror_mode": {
    "name": "ipython",
    "version": 3
   },
   "file_extension": ".py",
   "mimetype": "text/x-python",
   "name": "python",
   "nbconvert_exporter": "python",
   "pygments_lexer": "ipython3",
   "version": "3.13.3"
  }
 },
 "nbformat": 4,
 "nbformat_minor": 5
}
